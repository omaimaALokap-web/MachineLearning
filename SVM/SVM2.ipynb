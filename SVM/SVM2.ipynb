{
  "nbformat": 4,
  "nbformat_minor": 0,
  "metadata": {
    "colab": {
      "provenance": []
    },
    "kernelspec": {
      "name": "python3",
      "display_name": "Python 3"
    },
    "language_info": {
      "name": "python"
    }
  },
  "cells": [
    {
      "cell_type": "code",
      "execution_count": null,
      "metadata": {
        "id": "TTkr4GNhatu4"
      },
      "outputs": [],
      "source": [
        "import numpy as np\n",
        "import pandas as pd\n",
        "import matplotlib.pyplot as plt\n",
        "import seaborn as sns\n",
        "from sklearn.model_selection import train_test_split, cross_val_score, GridSearchCV\n",
        "from sklearn.metrics import accuracy_score, confusion_matrix, classification_report\n",
        "from sklearn.preprocessing import StandardScaler, MinMaxScaler\n",
        "from imblearn.over_sampling import RandomOverSampler\n",
        "from sklearn.svm import SVC\n",
        "import warnings\n",
        "warnings.filterwarnings('ignore')"
      ]
    },
    {
      "cell_type": "code",
      "source": [
        "df = pd.read_csv('data.csv')"
      ],
      "metadata": {
        "id": "39wx2BHTbrHP"
      },
      "execution_count": null,
      "outputs": []
    },
    {
      "cell_type": "code",
      "source": [
        "df.info()"
      ],
      "metadata": {
        "colab": {
          "base_uri": "https://localhost:8080/"
        },
        "collapsed": true,
        "id": "U7e2eBCFcOod",
        "outputId": "bfd9fbe4-6eaf-484f-b149-00a35cb3c151"
      },
      "execution_count": null,
      "outputs": [
        {
          "output_type": "stream",
          "name": "stdout",
          "text": [
            "<class 'pandas.core.frame.DataFrame'>\n",
            "RangeIndex: 569 entries, 0 to 568\n",
            "Data columns (total 33 columns):\n",
            " #   Column                   Non-Null Count  Dtype  \n",
            "---  ------                   --------------  -----  \n",
            " 0   id                       569 non-null    int64  \n",
            " 1   diagnosis                569 non-null    object \n",
            " 2   radius_mean              569 non-null    float64\n",
            " 3   texture_mean             569 non-null    float64\n",
            " 4   perimeter_mean           569 non-null    float64\n",
            " 5   area_mean                569 non-null    float64\n",
            " 6   smoothness_mean          569 non-null    float64\n",
            " 7   compactness_mean         569 non-null    float64\n",
            " 8   concavity_mean           569 non-null    float64\n",
            " 9   concave points_mean      569 non-null    float64\n",
            " 10  symmetry_mean            569 non-null    float64\n",
            " 11  fractal_dimension_mean   569 non-null    float64\n",
            " 12  radius_se                569 non-null    float64\n",
            " 13  texture_se               569 non-null    float64\n",
            " 14  perimeter_se             569 non-null    float64\n",
            " 15  area_se                  569 non-null    float64\n",
            " 16  smoothness_se            569 non-null    float64\n",
            " 17  compactness_se           569 non-null    float64\n",
            " 18  concavity_se             569 non-null    float64\n",
            " 19  concave points_se        569 non-null    float64\n",
            " 20  symmetry_se              569 non-null    float64\n",
            " 21  fractal_dimension_se     569 non-null    float64\n",
            " 22  radius_worst             569 non-null    float64\n",
            " 23  texture_worst            569 non-null    float64\n",
            " 24  perimeter_worst          569 non-null    float64\n",
            " 25  area_worst               569 non-null    float64\n",
            " 26  smoothness_worst         569 non-null    float64\n",
            " 27  compactness_worst        569 non-null    float64\n",
            " 28  concavity_worst          569 non-null    float64\n",
            " 29  concave points_worst     569 non-null    float64\n",
            " 30  symmetry_worst           569 non-null    float64\n",
            " 31  fractal_dimension_worst  569 non-null    float64\n",
            " 32  Unnamed: 32              0 non-null      float64\n",
            "dtypes: float64(31), int64(1), object(1)\n",
            "memory usage: 146.8+ KB\n"
          ]
        }
      ]
    },
    {
      "cell_type": "code",
      "source": [
        "df.drop(['Unnamed: 32','id'], inplace = True, axis = 1 )"
      ],
      "metadata": {
        "id": "ZUDDAB_GcRB7"
      },
      "execution_count": null,
      "outputs": []
    },
    {
      "cell_type": "code",
      "source": [
        "df['diagnosis'] = df['diagnosis'].map({'M':1,'B':0})"
      ],
      "metadata": {
        "id": "MFK0d-_8cgod"
      },
      "execution_count": null,
      "outputs": []
    },
    {
      "cell_type": "code",
      "source": [
        "def scaling(X,Y, scale,over_sampling = False):\n",
        "  scale.fit(X)\n",
        "  scaled_data = scale.transform(X)\n",
        "  osr = RandomOverSampler()\n",
        "  if over_sampling:\n",
        "    x_scaled, y_osr = osr.fit_resample(scaled_data, y)\n",
        "  else:\n",
        "    x_scaled = scaled_data\n",
        "    y_osr = y\n",
        "  return   x_scaled, y_osr"
      ],
      "metadata": {
        "id": "tAj4EkQfdPVY"
      },
      "execution_count": null,
      "outputs": []
    },
    {
      "cell_type": "code",
      "source": [
        "X = df.drop('diagnosis', axis = 1)\n",
        "y = df['diagnosis']"
      ],
      "metadata": {
        "id": "1qUHNRimdyyA"
      },
      "execution_count": null,
      "outputs": []
    },
    {
      "cell_type": "code",
      "source": [
        "grid = {\n",
        "    'C':[0.1,1,10,100],\n",
        "    'gamma':[1,0.1,0.01,0.001],\n",
        "    'kernel':['linear','poly','sigmoid','rbf','laplacian'],\n",
        "    'degree':[1,2,3,4,5]\n",
        "}"
      ],
      "metadata": {
        "id": "xH39sgTGeADB"
      },
      "execution_count": null,
      "outputs": []
    },
    {
      "cell_type": "markdown",
      "source": [
        "Without Scaling"
      ],
      "metadata": {
        "id": "m80srqWMi2vc"
      }
    },
    {
      "cell_type": "code",
      "source": [
        "X_train, X_test, y_train, y_test = train_test_split(X, y, test_size=0.3, random_state=42)\n",
        "svc_m = SVC(random_state=101)\n",
        "cross_val = cross_val_score(svc_m, X_train, y_train, cv = 5)\n",
        "print(\"The traing accuracy\", np.mean(cross_val))\n",
        "svc_m.fit(X_train, y_train)\n",
        "print('The test accuracy',svc_m.fit(X_train, y_train).score(X_test, y_test))\n"
      ],
      "metadata": {
        "colab": {
          "base_uri": "https://localhost:8080/"
        },
        "id": "QBTSHiskgbJ4",
        "outputId": "f04309d2-e884-42b3-9b9c-8245a522db97"
      },
      "execution_count": null,
      "outputs": [
        {
          "output_type": "stream",
          "name": "stdout",
          "text": [
            "The traing accuracy 0.8943354430379747\n",
            "The test accuracy 0.935672514619883\n"
          ]
        }
      ]
    },
    {
      "cell_type": "markdown",
      "source": [
        "With scaling"
      ],
      "metadata": {
        "id": "Zwh3gdrdi9ep"
      }
    },
    {
      "cell_type": "markdown",
      "source": [
        "## Defauld parameters"
      ],
      "metadata": {
        "id": "eo1n7iz1jFuk"
      }
    },
    {
      "cell_type": "code",
      "source": [
        "for i in [StandardScaler(), MinMaxScaler()]:\n",
        "  print(f\"The Scaling is:{i}\")\n",
        "  X_scaled,Y_scaled = scaling(X,y, i,True)\n",
        "  X_train, X_test, y_train, y_test = train_test_split(X_scaled, Y_scaled, test_size=0.3, random_state=42)\n",
        "  svc_m = SVC(random_state=101)\n",
        "  cross_val = cross_val_score(svc_m, X_train, y_train, cv = 5)\n",
        "  print(\"The traing accuracy\", np.mean(cross_val))\n",
        "  svc_m.fit(X_train, y_train)\n",
        "  print('The test accuracy',svc_m.fit(X_train, y_train).score(X_test, y_test))\n",
        "  print(\"*******************************************************************\")\n",
        "\n"
      ],
      "metadata": {
        "colab": {
          "base_uri": "https://localhost:8080/"
        },
        "id": "ozwNNhTlhLCA",
        "outputId": "70a83708-71b2-49c7-ba07-f1b0da817ae0"
      },
      "execution_count": null,
      "outputs": [
        {
          "output_type": "stream",
          "name": "stdout",
          "text": [
            "The Scaling is:StandardScaler()\n",
            "The traing accuracy 0.969959595959596\n",
            "The test accuracy 0.9674418604651163\n",
            "*******************************************************************\n",
            "The Scaling is:MinMaxScaler()\n",
            "The traing accuracy 0.9779191919191919\n",
            "The test accuracy 0.9720930232558139\n",
            "*******************************************************************\n"
          ]
        }
      ]
    },
    {
      "cell_type": "code",
      "source": [
        "for i in [StandardScaler(), MinMaxScaler()]:\n",
        "  print(f\"The Scaling is:{i}\")\n",
        "  X_scaled, Y_scaled= scaling(X,y, i,True)\n",
        "  X_train, X_test, y_train, y_test = train_test_split(X_scaled, Y_scaled, test_size=0.3, random_state=42)\n",
        "  svc_m = SVC(random_state=101)\n",
        "  grid_search = GridSearchCV(svc_m, grid, cv = 5)\n",
        "  grid_search.fit(X_train, y_train)\n",
        "  print(\"the best parameters:\",grid_search.best_params_)\n",
        "  print(\"the best traing score:\",grid_search.best_score_)\n",
        "  print('The test accuracy',grid_search.score(X_test, y_test))\n",
        "  print(\"*******************************************************************\")\n",
        "\n"
      ],
      "metadata": {
        "colab": {
          "base_uri": "https://localhost:8080/"
        },
        "outputId": "0517f9e6-849d-44a8-f9f5-2e77c9a899e8",
        "id": "ezsBtPtfjboN"
      },
      "execution_count": null,
      "outputs": [
        {
          "output_type": "stream",
          "name": "stdout",
          "text": [
            "The Scaling is:StandardScaler()\n",
            "the best parameters: {'C': 1, 'degree': 1, 'gamma': 1, 'kernel': 'linear'}\n",
            "the best traing score: 0.9839595959595959\n",
            "The test accuracy 0.9720930232558139\n",
            "*******************************************************************\n",
            "The Scaling is:MinMaxScaler()\n",
            "the best parameters: {'C': 1, 'degree': 1, 'gamma': 1, 'kernel': 'rbf'}\n",
            "the best traing score: 0.9779595959595959\n",
            "The test accuracy 0.9767441860465116\n",
            "*******************************************************************\n"
          ]
        }
      ]
    },
    {
      "cell_type": "code",
      "source": [
        "The Scaling is:StandardScaler()\n",
        "the best parameters: {'C': 1, 'degree': 1, 'gamma': 1, 'kernel': 'linear'}\n",
        "the best traing score: 0.9748101265822784\n",
        "The test accuracy 0.9766081871345029\n",
        "*******************************************************************\n",
        "The Scaling is:MinMaxScaler()\n",
        "the best parameters: {'C': 1, 'degree': 2, 'gamma': 1, 'kernel': 'poly'}\n",
        "the best traing score: 0.977373417721519\n",
        "The test accuracy 0.9883040935672515\n",
        "****************************************"
      ],
      "metadata": {
        "id": "bJyKvXbcj4K5"
      },
      "execution_count": null,
      "outputs": []
    }
  ]
}