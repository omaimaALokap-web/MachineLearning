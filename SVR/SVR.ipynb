{
  "cells": [
    {
      "cell_type": "code",
      "execution_count": null,
      "metadata": {
        "id": "-t2ihf6cnqE1"
      },
      "outputs": [],
      "source": [
        "import numpy as np\n",
        "import pandas as pd\n",
        "import matplotlib.pyplot as plt\n",
        "from sklearn.model_selection import train_test_split, cross_val_score,GridSearchCV\n",
        "from sklearn.preprocessing import StandardScaler, MinMaxScaler\n",
        "from sklearn.svm import SVR\n",
        "from sklearn.metrics import accuracy_score, confusion_matrix, classification_report\n",
        "# import warnings\n",
        "import warnings\n",
        "warnings.filterwarnings(\"ignore\")"
      ]
    },
    {
      "cell_type": "code",
      "execution_count": null,
      "metadata": {
        "id": "Ts-pDwZLoK-W"
      },
      "outputs": [],
      "source": [
        "df =  pd.read_csv('possum.csv')"
      ]
    },
    {
      "cell_type": "code",
      "execution_count": null,
      "metadata": {
        "colab": {
          "base_uri": "https://localhost:8080/"
        },
        "id": "QGK0cIrqoXW5",
        "outputId": "68706bff-ff07-429c-dbf6-e0907aaea2bf"
      },
      "outputs": [
        {
          "output_type": "stream",
          "name": "stdout",
          "text": [
            "<class 'pandas.core.frame.DataFrame'>\n",
            "RangeIndex: 104 entries, 0 to 103\n",
            "Data columns (total 14 columns):\n",
            " #   Column    Non-Null Count  Dtype  \n",
            "---  ------    --------------  -----  \n",
            " 0   case      104 non-null    int64  \n",
            " 1   site      104 non-null    int64  \n",
            " 2   Pop       104 non-null    object \n",
            " 3   sex       104 non-null    object \n",
            " 4   age       102 non-null    float64\n",
            " 5   hdlngth   104 non-null    float64\n",
            " 6   skullw    104 non-null    float64\n",
            " 7   totlngth  104 non-null    float64\n",
            " 8   taill     104 non-null    float64\n",
            " 9   footlgth  103 non-null    float64\n",
            " 10  earconch  104 non-null    float64\n",
            " 11  eye       104 non-null    float64\n",
            " 12  chest     104 non-null    float64\n",
            " 13  belly     104 non-null    float64\n",
            "dtypes: float64(10), int64(2), object(2)\n",
            "memory usage: 11.5+ KB\n"
          ]
        }
      ],
      "source": [
        "df.info()"
      ]
    },
    {
      "cell_type": "code",
      "execution_count": null,
      "metadata": {
        "colab": {
          "base_uri": "https://localhost:8080/",
          "height": 132
        },
        "id": "YFrIPpLEozkQ",
        "outputId": "5da300dd-5925-4d39-e9b6-df550c4bb16f"
      },
      "outputs": [
        {
          "output_type": "execute_result",
          "data": {
            "text/plain": [
              "    case  site  Pop sex  age  hdlngth  skullw  totlngth  taill  footlgth  \\\n",
              "43    44     2  Vic   m  NaN     85.1    51.5      76.0   35.5      70.3   \n",
              "45    46     2  Vic   m  NaN     91.4    54.4      84.0   35.0      72.8   \n",
              "\n",
              "    earconch   eye  chest  belly  \n",
              "43      52.6  14.4   23.0   27.0  \n",
              "45      51.2  14.4   24.5   35.0  "
            ],
            "text/html": [
              "\n",
              "  <div id=\"df-a4bc20d2-f076-4b1c-8f81-581c33bf00cf\" class=\"colab-df-container\">\n",
              "    <div>\n",
              "<style scoped>\n",
              "    .dataframe tbody tr th:only-of-type {\n",
              "        vertical-align: middle;\n",
              "    }\n",
              "\n",
              "    .dataframe tbody tr th {\n",
              "        vertical-align: top;\n",
              "    }\n",
              "\n",
              "    .dataframe thead th {\n",
              "        text-align: right;\n",
              "    }\n",
              "</style>\n",
              "<table border=\"1\" class=\"dataframe\">\n",
              "  <thead>\n",
              "    <tr style=\"text-align: right;\">\n",
              "      <th></th>\n",
              "      <th>case</th>\n",
              "      <th>site</th>\n",
              "      <th>Pop</th>\n",
              "      <th>sex</th>\n",
              "      <th>age</th>\n",
              "      <th>hdlngth</th>\n",
              "      <th>skullw</th>\n",
              "      <th>totlngth</th>\n",
              "      <th>taill</th>\n",
              "      <th>footlgth</th>\n",
              "      <th>earconch</th>\n",
              "      <th>eye</th>\n",
              "      <th>chest</th>\n",
              "      <th>belly</th>\n",
              "    </tr>\n",
              "  </thead>\n",
              "  <tbody>\n",
              "    <tr>\n",
              "      <th>43</th>\n",
              "      <td>44</td>\n",
              "      <td>2</td>\n",
              "      <td>Vic</td>\n",
              "      <td>m</td>\n",
              "      <td>NaN</td>\n",
              "      <td>85.1</td>\n",
              "      <td>51.5</td>\n",
              "      <td>76.0</td>\n",
              "      <td>35.5</td>\n",
              "      <td>70.3</td>\n",
              "      <td>52.6</td>\n",
              "      <td>14.4</td>\n",
              "      <td>23.0</td>\n",
              "      <td>27.0</td>\n",
              "    </tr>\n",
              "    <tr>\n",
              "      <th>45</th>\n",
              "      <td>46</td>\n",
              "      <td>2</td>\n",
              "      <td>Vic</td>\n",
              "      <td>m</td>\n",
              "      <td>NaN</td>\n",
              "      <td>91.4</td>\n",
              "      <td>54.4</td>\n",
              "      <td>84.0</td>\n",
              "      <td>35.0</td>\n",
              "      <td>72.8</td>\n",
              "      <td>51.2</td>\n",
              "      <td>14.4</td>\n",
              "      <td>24.5</td>\n",
              "      <td>35.0</td>\n",
              "    </tr>\n",
              "  </tbody>\n",
              "</table>\n",
              "</div>\n",
              "    <div class=\"colab-df-buttons\">\n",
              "\n",
              "  <div class=\"colab-df-container\">\n",
              "    <button class=\"colab-df-convert\" onclick=\"convertToInteractive('df-a4bc20d2-f076-4b1c-8f81-581c33bf00cf')\"\n",
              "            title=\"Convert this dataframe to an interactive table.\"\n",
              "            style=\"display:none;\">\n",
              "\n",
              "  <svg xmlns=\"http://www.w3.org/2000/svg\" height=\"24px\" viewBox=\"0 -960 960 960\">\n",
              "    <path d=\"M120-120v-720h720v720H120Zm60-500h600v-160H180v160Zm220 220h160v-160H400v160Zm0 220h160v-160H400v160ZM180-400h160v-160H180v160Zm440 0h160v-160H620v160ZM180-180h160v-160H180v160Zm440 0h160v-160H620v160Z\"/>\n",
              "  </svg>\n",
              "    </button>\n",
              "\n",
              "  <style>\n",
              "    .colab-df-container {\n",
              "      display:flex;\n",
              "      gap: 12px;\n",
              "    }\n",
              "\n",
              "    .colab-df-convert {\n",
              "      background-color: #E8F0FE;\n",
              "      border: none;\n",
              "      border-radius: 50%;\n",
              "      cursor: pointer;\n",
              "      display: none;\n",
              "      fill: #1967D2;\n",
              "      height: 32px;\n",
              "      padding: 0 0 0 0;\n",
              "      width: 32px;\n",
              "    }\n",
              "\n",
              "    .colab-df-convert:hover {\n",
              "      background-color: #E2EBFA;\n",
              "      box-shadow: 0px 1px 2px rgba(60, 64, 67, 0.3), 0px 1px 3px 1px rgba(60, 64, 67, 0.15);\n",
              "      fill: #174EA6;\n",
              "    }\n",
              "\n",
              "    .colab-df-buttons div {\n",
              "      margin-bottom: 4px;\n",
              "    }\n",
              "\n",
              "    [theme=dark] .colab-df-convert {\n",
              "      background-color: #3B4455;\n",
              "      fill: #D2E3FC;\n",
              "    }\n",
              "\n",
              "    [theme=dark] .colab-df-convert:hover {\n",
              "      background-color: #434B5C;\n",
              "      box-shadow: 0px 1px 3px 1px rgba(0, 0, 0, 0.15);\n",
              "      filter: drop-shadow(0px 1px 2px rgba(0, 0, 0, 0.3));\n",
              "      fill: #FFFFFF;\n",
              "    }\n",
              "  </style>\n",
              "\n",
              "    <script>\n",
              "      const buttonEl =\n",
              "        document.querySelector('#df-a4bc20d2-f076-4b1c-8f81-581c33bf00cf button.colab-df-convert');\n",
              "      buttonEl.style.display =\n",
              "        google.colab.kernel.accessAllowed ? 'block' : 'none';\n",
              "\n",
              "      async function convertToInteractive(key) {\n",
              "        const element = document.querySelector('#df-a4bc20d2-f076-4b1c-8f81-581c33bf00cf');\n",
              "        const dataTable =\n",
              "          await google.colab.kernel.invokeFunction('convertToInteractive',\n",
              "                                                    [key], {});\n",
              "        if (!dataTable) return;\n",
              "\n",
              "        const docLinkHtml = 'Like what you see? Visit the ' +\n",
              "          '<a target=\"_blank\" href=https://colab.research.google.com/notebooks/data_table.ipynb>data table notebook</a>'\n",
              "          + ' to learn more about interactive tables.';\n",
              "        element.innerHTML = '';\n",
              "        dataTable['output_type'] = 'display_data';\n",
              "        await google.colab.output.renderOutput(dataTable, element);\n",
              "        const docLink = document.createElement('div');\n",
              "        docLink.innerHTML = docLinkHtml;\n",
              "        element.appendChild(docLink);\n",
              "      }\n",
              "    </script>\n",
              "  </div>\n",
              "\n",
              "\n",
              "<div id=\"df-2b0a016c-29ff-4c78-ab94-b228fcbe1a4e\">\n",
              "  <button class=\"colab-df-quickchart\" onclick=\"quickchart('df-2b0a016c-29ff-4c78-ab94-b228fcbe1a4e')\"\n",
              "            title=\"Suggest charts\"\n",
              "            style=\"display:none;\">\n",
              "\n",
              "<svg xmlns=\"http://www.w3.org/2000/svg\" height=\"24px\"viewBox=\"0 0 24 24\"\n",
              "     width=\"24px\">\n",
              "    <g>\n",
              "        <path d=\"M19 3H5c-1.1 0-2 .9-2 2v14c0 1.1.9 2 2 2h14c1.1 0 2-.9 2-2V5c0-1.1-.9-2-2-2zM9 17H7v-7h2v7zm4 0h-2V7h2v10zm4 0h-2v-4h2v4z\"/>\n",
              "    </g>\n",
              "</svg>\n",
              "  </button>\n",
              "\n",
              "<style>\n",
              "  .colab-df-quickchart {\n",
              "      --bg-color: #E8F0FE;\n",
              "      --fill-color: #1967D2;\n",
              "      --hover-bg-color: #E2EBFA;\n",
              "      --hover-fill-color: #174EA6;\n",
              "      --disabled-fill-color: #AAA;\n",
              "      --disabled-bg-color: #DDD;\n",
              "  }\n",
              "\n",
              "  [theme=dark] .colab-df-quickchart {\n",
              "      --bg-color: #3B4455;\n",
              "      --fill-color: #D2E3FC;\n",
              "      --hover-bg-color: #434B5C;\n",
              "      --hover-fill-color: #FFFFFF;\n",
              "      --disabled-bg-color: #3B4455;\n",
              "      --disabled-fill-color: #666;\n",
              "  }\n",
              "\n",
              "  .colab-df-quickchart {\n",
              "    background-color: var(--bg-color);\n",
              "    border: none;\n",
              "    border-radius: 50%;\n",
              "    cursor: pointer;\n",
              "    display: none;\n",
              "    fill: var(--fill-color);\n",
              "    height: 32px;\n",
              "    padding: 0;\n",
              "    width: 32px;\n",
              "  }\n",
              "\n",
              "  .colab-df-quickchart:hover {\n",
              "    background-color: var(--hover-bg-color);\n",
              "    box-shadow: 0 1px 2px rgba(60, 64, 67, 0.3), 0 1px 3px 1px rgba(60, 64, 67, 0.15);\n",
              "    fill: var(--button-hover-fill-color);\n",
              "  }\n",
              "\n",
              "  .colab-df-quickchart-complete:disabled,\n",
              "  .colab-df-quickchart-complete:disabled:hover {\n",
              "    background-color: var(--disabled-bg-color);\n",
              "    fill: var(--disabled-fill-color);\n",
              "    box-shadow: none;\n",
              "  }\n",
              "\n",
              "  .colab-df-spinner {\n",
              "    border: 2px solid var(--fill-color);\n",
              "    border-color: transparent;\n",
              "    border-bottom-color: var(--fill-color);\n",
              "    animation:\n",
              "      spin 1s steps(1) infinite;\n",
              "  }\n",
              "\n",
              "  @keyframes spin {\n",
              "    0% {\n",
              "      border-color: transparent;\n",
              "      border-bottom-color: var(--fill-color);\n",
              "      border-left-color: var(--fill-color);\n",
              "    }\n",
              "    20% {\n",
              "      border-color: transparent;\n",
              "      border-left-color: var(--fill-color);\n",
              "      border-top-color: var(--fill-color);\n",
              "    }\n",
              "    30% {\n",
              "      border-color: transparent;\n",
              "      border-left-color: var(--fill-color);\n",
              "      border-top-color: var(--fill-color);\n",
              "      border-right-color: var(--fill-color);\n",
              "    }\n",
              "    40% {\n",
              "      border-color: transparent;\n",
              "      border-right-color: var(--fill-color);\n",
              "      border-top-color: var(--fill-color);\n",
              "    }\n",
              "    60% {\n",
              "      border-color: transparent;\n",
              "      border-right-color: var(--fill-color);\n",
              "    }\n",
              "    80% {\n",
              "      border-color: transparent;\n",
              "      border-right-color: var(--fill-color);\n",
              "      border-bottom-color: var(--fill-color);\n",
              "    }\n",
              "    90% {\n",
              "      border-color: transparent;\n",
              "      border-bottom-color: var(--fill-color);\n",
              "    }\n",
              "  }\n",
              "</style>\n",
              "\n",
              "  <script>\n",
              "    async function quickchart(key) {\n",
              "      const quickchartButtonEl =\n",
              "        document.querySelector('#' + key + ' button');\n",
              "      quickchartButtonEl.disabled = true;  // To prevent multiple clicks.\n",
              "      quickchartButtonEl.classList.add('colab-df-spinner');\n",
              "      try {\n",
              "        const charts = await google.colab.kernel.invokeFunction(\n",
              "            'suggestCharts', [key], {});\n",
              "      } catch (error) {\n",
              "        console.error('Error during call to suggestCharts:', error);\n",
              "      }\n",
              "      quickchartButtonEl.classList.remove('colab-df-spinner');\n",
              "      quickchartButtonEl.classList.add('colab-df-quickchart-complete');\n",
              "    }\n",
              "    (() => {\n",
              "      let quickchartButtonEl =\n",
              "        document.querySelector('#df-2b0a016c-29ff-4c78-ab94-b228fcbe1a4e button');\n",
              "      quickchartButtonEl.style.display =\n",
              "        google.colab.kernel.accessAllowed ? 'block' : 'none';\n",
              "    })();\n",
              "  </script>\n",
              "</div>\n",
              "\n",
              "    </div>\n",
              "  </div>\n"
            ],
            "application/vnd.google.colaboratory.intrinsic+json": {
              "type": "dataframe",
              "summary": "{\n  \"name\": \"df[df['age']\",\n  \"rows\": 2,\n  \"fields\": [\n    {\n      \"column\": \"case\",\n      \"properties\": {\n        \"dtype\": \"number\",\n        \"std\": 1,\n        \"min\": 44,\n        \"max\": 46,\n        \"num_unique_values\": 2,\n        \"samples\": [\n          46,\n          44\n        ],\n        \"semantic_type\": \"\",\n        \"description\": \"\"\n      }\n    },\n    {\n      \"column\": \"site\",\n      \"properties\": {\n        \"dtype\": \"number\",\n        \"std\": 0,\n        \"min\": 2,\n        \"max\": 2,\n        \"num_unique_values\": 1,\n        \"samples\": [\n          2\n        ],\n        \"semantic_type\": \"\",\n        \"description\": \"\"\n      }\n    },\n    {\n      \"column\": \"Pop\",\n      \"properties\": {\n        \"dtype\": \"string\",\n        \"num_unique_values\": 1,\n        \"samples\": [\n          \"Vic\"\n        ],\n        \"semantic_type\": \"\",\n        \"description\": \"\"\n      }\n    },\n    {\n      \"column\": \"sex\",\n      \"properties\": {\n        \"dtype\": \"string\",\n        \"num_unique_values\": 1,\n        \"samples\": [\n          \"m\"\n        ],\n        \"semantic_type\": \"\",\n        \"description\": \"\"\n      }\n    },\n    {\n      \"column\": \"age\",\n      \"properties\": {\n        \"dtype\": \"number\",\n        \"std\": null,\n        \"min\": null,\n        \"max\": null,\n        \"num_unique_values\": 0,\n        \"samples\": [],\n        \"semantic_type\": \"\",\n        \"description\": \"\"\n      }\n    },\n    {\n      \"column\": \"hdlngth\",\n      \"properties\": {\n        \"dtype\": \"number\",\n        \"std\": 4.4547727214752575,\n        \"min\": 85.1,\n        \"max\": 91.4,\n        \"num_unique_values\": 2,\n        \"samples\": [],\n        \"semantic_type\": \"\",\n        \"description\": \"\"\n      }\n    },\n    {\n      \"column\": \"skullw\",\n      \"properties\": {\n        \"dtype\": \"number\",\n        \"std\": 2.050609665440987,\n        \"min\": 51.5,\n        \"max\": 54.4,\n        \"num_unique_values\": 2,\n        \"samples\": [],\n        \"semantic_type\": \"\",\n        \"description\": \"\"\n      }\n    },\n    {\n      \"column\": \"totlngth\",\n      \"properties\": {\n        \"dtype\": \"number\",\n        \"std\": 5.656854249492381,\n        \"min\": 76.0,\n        \"max\": 84.0,\n        \"num_unique_values\": 2,\n        \"samples\": [],\n        \"semantic_type\": \"\",\n        \"description\": \"\"\n      }\n    },\n    {\n      \"column\": \"taill\",\n      \"properties\": {\n        \"dtype\": \"number\",\n        \"std\": 0.3535533905932738,\n        \"min\": 35.0,\n        \"max\": 35.5,\n        \"num_unique_values\": 2,\n        \"samples\": [],\n        \"semantic_type\": \"\",\n        \"description\": \"\"\n      }\n    },\n    {\n      \"column\": \"footlgth\",\n      \"properties\": {\n        \"dtype\": \"number\",\n        \"std\": 1.7677669529663689,\n        \"min\": 70.3,\n        \"max\": 72.8,\n        \"num_unique_values\": 2,\n        \"samples\": [],\n        \"semantic_type\": \"\",\n        \"description\": \"\"\n      }\n    },\n    {\n      \"column\": \"earconch\",\n      \"properties\": {\n        \"dtype\": \"number\",\n        \"std\": 0.9899494936611655,\n        \"min\": 51.2,\n        \"max\": 52.6,\n        \"num_unique_values\": 2,\n        \"samples\": [],\n        \"semantic_type\": \"\",\n        \"description\": \"\"\n      }\n    },\n    {\n      \"column\": \"eye\",\n      \"properties\": {\n        \"dtype\": \"number\",\n        \"std\": 0.0,\n        \"min\": 14.4,\n        \"max\": 14.4,\n        \"num_unique_values\": 1,\n        \"samples\": [],\n        \"semantic_type\": \"\",\n        \"description\": \"\"\n      }\n    },\n    {\n      \"column\": \"chest\",\n      \"properties\": {\n        \"dtype\": \"number\",\n        \"std\": 1.0606601717798212,\n        \"min\": 23.0,\n        \"max\": 24.5,\n        \"num_unique_values\": 2,\n        \"samples\": [],\n        \"semantic_type\": \"\",\n        \"description\": \"\"\n      }\n    },\n    {\n      \"column\": \"belly\",\n      \"properties\": {\n        \"dtype\": \"number\",\n        \"std\": 5.656854249492381,\n        \"min\": 27.0,\n        \"max\": 35.0,\n        \"num_unique_values\": 2,\n        \"samples\": [],\n        \"semantic_type\": \"\",\n        \"description\": \"\"\n      }\n    }\n  ]\n}"
            }
          },
          "metadata": {},
          "execution_count": 26
        }
      ],
      "source": [
        "df[df['age'].isnull()]"
      ]
    },
    {
      "cell_type": "code",
      "execution_count": null,
      "metadata": {
        "id": "Gz_KSwLipBCS"
      },
      "outputs": [],
      "source": [
        "df['age'].fillna(df[df['sex']=='m']['age'].median(), inplace=True)"
      ]
    },
    {
      "cell_type": "code",
      "execution_count": null,
      "metadata": {
        "colab": {
          "base_uri": "https://localhost:8080/",
          "height": 101
        },
        "id": "e867xzTRpXKb",
        "outputId": "d9cf2edd-32ab-4031-9bef-78dae9f58012"
      },
      "outputs": [
        {
          "output_type": "execute_result",
          "data": {
            "text/plain": [
              "    case  site  Pop sex  age  hdlngth  skullw  totlngth  taill  footlgth  \\\n",
              "40    41     2  Vic   f  5.0     88.4    57.0      83.0   36.5       NaN   \n",
              "\n",
              "    earconch   eye  chest  belly  \n",
              "40      40.3  15.9   27.0   30.5  "
            ],
            "text/html": [
              "\n",
              "  <div id=\"df-4677a2c9-1c34-4143-9e86-c1ddf7cbb305\" class=\"colab-df-container\">\n",
              "    <div>\n",
              "<style scoped>\n",
              "    .dataframe tbody tr th:only-of-type {\n",
              "        vertical-align: middle;\n",
              "    }\n",
              "\n",
              "    .dataframe tbody tr th {\n",
              "        vertical-align: top;\n",
              "    }\n",
              "\n",
              "    .dataframe thead th {\n",
              "        text-align: right;\n",
              "    }\n",
              "</style>\n",
              "<table border=\"1\" class=\"dataframe\">\n",
              "  <thead>\n",
              "    <tr style=\"text-align: right;\">\n",
              "      <th></th>\n",
              "      <th>case</th>\n",
              "      <th>site</th>\n",
              "      <th>Pop</th>\n",
              "      <th>sex</th>\n",
              "      <th>age</th>\n",
              "      <th>hdlngth</th>\n",
              "      <th>skullw</th>\n",
              "      <th>totlngth</th>\n",
              "      <th>taill</th>\n",
              "      <th>footlgth</th>\n",
              "      <th>earconch</th>\n",
              "      <th>eye</th>\n",
              "      <th>chest</th>\n",
              "      <th>belly</th>\n",
              "    </tr>\n",
              "  </thead>\n",
              "  <tbody>\n",
              "    <tr>\n",
              "      <th>40</th>\n",
              "      <td>41</td>\n",
              "      <td>2</td>\n",
              "      <td>Vic</td>\n",
              "      <td>f</td>\n",
              "      <td>5.0</td>\n",
              "      <td>88.4</td>\n",
              "      <td>57.0</td>\n",
              "      <td>83.0</td>\n",
              "      <td>36.5</td>\n",
              "      <td>NaN</td>\n",
              "      <td>40.3</td>\n",
              "      <td>15.9</td>\n",
              "      <td>27.0</td>\n",
              "      <td>30.5</td>\n",
              "    </tr>\n",
              "  </tbody>\n",
              "</table>\n",
              "</div>\n",
              "    <div class=\"colab-df-buttons\">\n",
              "\n",
              "  <div class=\"colab-df-container\">\n",
              "    <button class=\"colab-df-convert\" onclick=\"convertToInteractive('df-4677a2c9-1c34-4143-9e86-c1ddf7cbb305')\"\n",
              "            title=\"Convert this dataframe to an interactive table.\"\n",
              "            style=\"display:none;\">\n",
              "\n",
              "  <svg xmlns=\"http://www.w3.org/2000/svg\" height=\"24px\" viewBox=\"0 -960 960 960\">\n",
              "    <path d=\"M120-120v-720h720v720H120Zm60-500h600v-160H180v160Zm220 220h160v-160H400v160Zm0 220h160v-160H400v160ZM180-400h160v-160H180v160Zm440 0h160v-160H620v160ZM180-180h160v-160H180v160Zm440 0h160v-160H620v160Z\"/>\n",
              "  </svg>\n",
              "    </button>\n",
              "\n",
              "  <style>\n",
              "    .colab-df-container {\n",
              "      display:flex;\n",
              "      gap: 12px;\n",
              "    }\n",
              "\n",
              "    .colab-df-convert {\n",
              "      background-color: #E8F0FE;\n",
              "      border: none;\n",
              "      border-radius: 50%;\n",
              "      cursor: pointer;\n",
              "      display: none;\n",
              "      fill: #1967D2;\n",
              "      height: 32px;\n",
              "      padding: 0 0 0 0;\n",
              "      width: 32px;\n",
              "    }\n",
              "\n",
              "    .colab-df-convert:hover {\n",
              "      background-color: #E2EBFA;\n",
              "      box-shadow: 0px 1px 2px rgba(60, 64, 67, 0.3), 0px 1px 3px 1px rgba(60, 64, 67, 0.15);\n",
              "      fill: #174EA6;\n",
              "    }\n",
              "\n",
              "    .colab-df-buttons div {\n",
              "      margin-bottom: 4px;\n",
              "    }\n",
              "\n",
              "    [theme=dark] .colab-df-convert {\n",
              "      background-color: #3B4455;\n",
              "      fill: #D2E3FC;\n",
              "    }\n",
              "\n",
              "    [theme=dark] .colab-df-convert:hover {\n",
              "      background-color: #434B5C;\n",
              "      box-shadow: 0px 1px 3px 1px rgba(0, 0, 0, 0.15);\n",
              "      filter: drop-shadow(0px 1px 2px rgba(0, 0, 0, 0.3));\n",
              "      fill: #FFFFFF;\n",
              "    }\n",
              "  </style>\n",
              "\n",
              "    <script>\n",
              "      const buttonEl =\n",
              "        document.querySelector('#df-4677a2c9-1c34-4143-9e86-c1ddf7cbb305 button.colab-df-convert');\n",
              "      buttonEl.style.display =\n",
              "        google.colab.kernel.accessAllowed ? 'block' : 'none';\n",
              "\n",
              "      async function convertToInteractive(key) {\n",
              "        const element = document.querySelector('#df-4677a2c9-1c34-4143-9e86-c1ddf7cbb305');\n",
              "        const dataTable =\n",
              "          await google.colab.kernel.invokeFunction('convertToInteractive',\n",
              "                                                    [key], {});\n",
              "        if (!dataTable) return;\n",
              "\n",
              "        const docLinkHtml = 'Like what you see? Visit the ' +\n",
              "          '<a target=\"_blank\" href=https://colab.research.google.com/notebooks/data_table.ipynb>data table notebook</a>'\n",
              "          + ' to learn more about interactive tables.';\n",
              "        element.innerHTML = '';\n",
              "        dataTable['output_type'] = 'display_data';\n",
              "        await google.colab.output.renderOutput(dataTable, element);\n",
              "        const docLink = document.createElement('div');\n",
              "        docLink.innerHTML = docLinkHtml;\n",
              "        element.appendChild(docLink);\n",
              "      }\n",
              "    </script>\n",
              "  </div>\n",
              "\n",
              "\n",
              "    </div>\n",
              "  </div>\n"
            ],
            "application/vnd.google.colaboratory.intrinsic+json": {
              "type": "dataframe",
              "summary": "{\n  \"name\": \"df[df['footlgth']\",\n  \"rows\": 1,\n  \"fields\": [\n    {\n      \"column\": \"case\",\n      \"properties\": {\n        \"dtype\": \"number\",\n        \"std\": null,\n        \"min\": 41,\n        \"max\": 41,\n        \"num_unique_values\": 1,\n        \"samples\": [\n          41\n        ],\n        \"semantic_type\": \"\",\n        \"description\": \"\"\n      }\n    },\n    {\n      \"column\": \"site\",\n      \"properties\": {\n        \"dtype\": \"number\",\n        \"std\": null,\n        \"min\": 2,\n        \"max\": 2,\n        \"num_unique_values\": 1,\n        \"samples\": [\n          2\n        ],\n        \"semantic_type\": \"\",\n        \"description\": \"\"\n      }\n    },\n    {\n      \"column\": \"Pop\",\n      \"properties\": {\n        \"dtype\": \"string\",\n        \"num_unique_values\": 1,\n        \"samples\": [\n          \"Vic\"\n        ],\n        \"semantic_type\": \"\",\n        \"description\": \"\"\n      }\n    },\n    {\n      \"column\": \"sex\",\n      \"properties\": {\n        \"dtype\": \"string\",\n        \"num_unique_values\": 1,\n        \"samples\": [\n          \"f\"\n        ],\n        \"semantic_type\": \"\",\n        \"description\": \"\"\n      }\n    },\n    {\n      \"column\": \"age\",\n      \"properties\": {\n        \"dtype\": \"number\",\n        \"std\": null,\n        \"min\": 5.0,\n        \"max\": 5.0,\n        \"num_unique_values\": 1,\n        \"samples\": [\n          5.0\n        ],\n        \"semantic_type\": \"\",\n        \"description\": \"\"\n      }\n    },\n    {\n      \"column\": \"hdlngth\",\n      \"properties\": {\n        \"dtype\": \"number\",\n        \"std\": null,\n        \"min\": 88.4,\n        \"max\": 88.4,\n        \"num_unique_values\": 1,\n        \"samples\": [\n          88.4\n        ],\n        \"semantic_type\": \"\",\n        \"description\": \"\"\n      }\n    },\n    {\n      \"column\": \"skullw\",\n      \"properties\": {\n        \"dtype\": \"number\",\n        \"std\": null,\n        \"min\": 57.0,\n        \"max\": 57.0,\n        \"num_unique_values\": 1,\n        \"samples\": [\n          57.0\n        ],\n        \"semantic_type\": \"\",\n        \"description\": \"\"\n      }\n    },\n    {\n      \"column\": \"totlngth\",\n      \"properties\": {\n        \"dtype\": \"number\",\n        \"std\": null,\n        \"min\": 83.0,\n        \"max\": 83.0,\n        \"num_unique_values\": 1,\n        \"samples\": [\n          83.0\n        ],\n        \"semantic_type\": \"\",\n        \"description\": \"\"\n      }\n    },\n    {\n      \"column\": \"taill\",\n      \"properties\": {\n        \"dtype\": \"number\",\n        \"std\": null,\n        \"min\": 36.5,\n        \"max\": 36.5,\n        \"num_unique_values\": 1,\n        \"samples\": [\n          36.5\n        ],\n        \"semantic_type\": \"\",\n        \"description\": \"\"\n      }\n    },\n    {\n      \"column\": \"footlgth\",\n      \"properties\": {\n        \"dtype\": \"number\",\n        \"std\": null,\n        \"min\": null,\n        \"max\": null,\n        \"num_unique_values\": 0,\n        \"samples\": [],\n        \"semantic_type\": \"\",\n        \"description\": \"\"\n      }\n    },\n    {\n      \"column\": \"earconch\",\n      \"properties\": {\n        \"dtype\": \"number\",\n        \"std\": null,\n        \"min\": 40.3,\n        \"max\": 40.3,\n        \"num_unique_values\": 1,\n        \"samples\": [],\n        \"semantic_type\": \"\",\n        \"description\": \"\"\n      }\n    },\n    {\n      \"column\": \"eye\",\n      \"properties\": {\n        \"dtype\": \"number\",\n        \"std\": null,\n        \"min\": 15.9,\n        \"max\": 15.9,\n        \"num_unique_values\": 1,\n        \"samples\": [],\n        \"semantic_type\": \"\",\n        \"description\": \"\"\n      }\n    },\n    {\n      \"column\": \"chest\",\n      \"properties\": {\n        \"dtype\": \"number\",\n        \"std\": null,\n        \"min\": 27.0,\n        \"max\": 27.0,\n        \"num_unique_values\": 1,\n        \"samples\": [],\n        \"semantic_type\": \"\",\n        \"description\": \"\"\n      }\n    },\n    {\n      \"column\": \"belly\",\n      \"properties\": {\n        \"dtype\": \"number\",\n        \"std\": null,\n        \"min\": 30.5,\n        \"max\": 30.5,\n        \"num_unique_values\": 1,\n        \"samples\": [],\n        \"semantic_type\": \"\",\n        \"description\": \"\"\n      }\n    }\n  ]\n}"
            }
          },
          "metadata": {},
          "execution_count": 28
        }
      ],
      "source": [
        "df[df['footlgth'].isnull()]"
      ]
    },
    {
      "cell_type": "code",
      "execution_count": null,
      "metadata": {
        "id": "iwcanuTopo_s"
      },
      "outputs": [],
      "source": [
        "df['footlgth'].fillna(df[df['sex']=='f']['footlgth'].median(), inplace = True)"
      ]
    },
    {
      "cell_type": "code",
      "execution_count": null,
      "metadata": {
        "colab": {
          "base_uri": "https://localhost:8080/"
        },
        "id": "5MVMyO6boY_S",
        "outputId": "e0321152-f2da-4bb8-e845-91359468ed6c"
      },
      "outputs": [
        {
          "output_type": "execute_result",
          "data": {
            "text/plain": [
              "array(['Vic', 'other'], dtype=object)"
            ]
          },
          "metadata": {},
          "execution_count": 30
        }
      ],
      "source": [
        "df['Pop'].unique()"
      ]
    },
    {
      "cell_type": "code",
      "execution_count": null,
      "metadata": {
        "id": "2yTBHnGpqC73"
      },
      "outputs": [],
      "source": [
        "df['Pop'] = df.Pop.map({'Vic':1,'other':0})"
      ]
    },
    {
      "cell_type": "code",
      "execution_count": null,
      "metadata": {
        "colab": {
          "base_uri": "https://localhost:8080/"
        },
        "id": "yvWKRLoZodpU",
        "outputId": "1950c6ee-3c80-44e5-9b5f-d1a48032256e"
      },
      "outputs": [
        {
          "output_type": "execute_result",
          "data": {
            "text/plain": [
              "array(['m', 'f'], dtype=object)"
            ]
          },
          "metadata": {},
          "execution_count": 32
        }
      ],
      "source": [
        "df['sex'].unique()"
      ]
    },
    {
      "cell_type": "code",
      "execution_count": null,
      "metadata": {
        "id": "tQuwUtbDom5q"
      },
      "outputs": [],
      "source": [
        "df['sex'] = df.sex.map({'m':1,'f':0})"
      ]
    },
    {
      "cell_type": "code",
      "execution_count": null,
      "metadata": {
        "colab": {
          "base_uri": "https://localhost:8080/"
        },
        "id": "aaHQ2zIyqMWp",
        "outputId": "99415801-dda7-4e80-d54a-4e1e21714a15"
      },
      "outputs": [
        {
          "output_type": "stream",
          "name": "stdout",
          "text": [
            "<class 'pandas.core.frame.DataFrame'>\n",
            "RangeIndex: 104 entries, 0 to 103\n",
            "Data columns (total 14 columns):\n",
            " #   Column    Non-Null Count  Dtype  \n",
            "---  ------    --------------  -----  \n",
            " 0   case      104 non-null    int64  \n",
            " 1   site      104 non-null    int64  \n",
            " 2   Pop       104 non-null    int64  \n",
            " 3   sex       104 non-null    int64  \n",
            " 4   age       104 non-null    float64\n",
            " 5   hdlngth   104 non-null    float64\n",
            " 6   skullw    104 non-null    float64\n",
            " 7   totlngth  104 non-null    float64\n",
            " 8   taill     104 non-null    float64\n",
            " 9   footlgth  104 non-null    float64\n",
            " 10  earconch  104 non-null    float64\n",
            " 11  eye       104 non-null    float64\n",
            " 12  chest     104 non-null    float64\n",
            " 13  belly     104 non-null    float64\n",
            "dtypes: float64(10), int64(4)\n",
            "memory usage: 11.5 KB\n"
          ]
        }
      ],
      "source": [
        "df.info()"
      ]
    },
    {
      "cell_type": "code",
      "execution_count": null,
      "metadata": {
        "id": "2ypkez9FqbJu"
      },
      "outputs": [],
      "source": [
        "X = df.drop('footlgth',axis = 1)\n",
        "Y = df['footlgth']\n",
        "X_train, X_test, Y_train, Y_test = train_test_split(X, Y, test_size = 0.2, random_state = 42)"
      ]
    },
    {
      "cell_type": "markdown",
      "metadata": {
        "id": "lVNVM3naqS3b"
      },
      "source": [
        "Without scalling"
      ]
    },
    {
      "cell_type": "code",
      "execution_count": null,
      "metadata": {
        "colab": {
          "base_uri": "https://localhost:8080/"
        },
        "id": "9LYmv-PTrVxS",
        "outputId": "742ebafd-a282-4819-a24a-967ddf5d6564"
      },
      "outputs": [
        {
          "output_type": "stream",
          "name": "stdout",
          "text": [
            "The train score is: 0.5619053983054147\n",
            "The test score is: 0.6347178305659376\n"
          ]
        }
      ],
      "source": [
        "SVR_model = SVR()\n",
        "cross_val = cross_val_score(SVR_model, X_train, Y_train, cv=5)\n",
        "print(\"The train score is:\", cross_val.mean())\n",
        "SVR_model.fit(X_train,Y_train)\n",
        "y_pred = SVR_model.predict(X_test)\n",
        "print(\"The test score is:\", SVR_model.score(X_test,Y_test))"
      ]
    },
    {
      "cell_type": "code",
      "execution_count": null,
      "metadata": {
        "colab": {
          "base_uri": "https://localhost:8080/"
        },
        "id": "IhcDvaVdB6en",
        "outputId": "8e1d0805-c381-46bf-ac89-0d5c1de18b46"
      },
      "outputs": [
        {
          "output_type": "stream",
          "name": "stdout",
          "text": [
            "{'C': 100, 'degree': 1, 'gamma': 1, 'kernel': 'linear'}\n",
            "0.6717942864859411\n"
          ]
        }
      ],
      "source": [
        "grid = {\n",
        "    'C':[0.1,1,10,100],\n",
        "    'gamma':[1,0.1,0.01,0.001],\n",
        "    'kernel':['linear','poly','sigmoid','rbf','laplacian'],\n",
        "    'degree':[1,2,3,4,5]\n",
        "}\n",
        "SVR_model = SVR()\n",
        "cross_grid = GridSearchCV(SVR_model,grid,cv=3)\n",
        "cross_grid.fit(X_train,Y_train)\n",
        "print(cross_grid.best_params_)\n",
        "print(cross_grid.best_score_)"
      ]
    },
    {
      "cell_type": "code",
      "execution_count": null,
      "metadata": {
        "id": "3vZ35jmQqODF"
      },
      "outputs": [],
      "source": [
        "def scaling(data, scaler):\n",
        "  scaler = scaler()\n",
        "  scaler.fit(data)\n",
        "  return scaler.transform(data)"
      ]
    },
    {
      "cell_type": "code",
      "execution_count": null,
      "metadata": {
        "id": "sDJrmKrgtRT8",
        "colab": {
          "base_uri": "https://localhost:8080/"
        },
        "outputId": "babcf150-6fe0-4bae-8dfe-836f1963fe44"
      },
      "outputs": [
        {
          "output_type": "stream",
          "name": "stdout",
          "text": [
            "The train score is: 0.6666815966574409\n",
            "The test score is: 0.6611764615344866\n"
          ]
        }
      ],
      "source": [
        "X_train = scaling(X_train, MinMaxScaler)\n",
        "X_test = scaling(X_test, MinMaxScaler)\n",
        "SVR_model = SVR()\n",
        "cross_val = cross_val_score(SVR_model, X_train, Y_train, cv=5)\n",
        "print(\"The train score is:\", cross_val.mean())\n",
        "SVR_model.fit(X_train,Y_train)\n",
        "y_pred = SVR_model.predict(X_test)\n",
        "print(\"The test score is:\", SVR_model.score(X_test,Y_test))"
      ]
    },
    {
      "cell_type": "code",
      "execution_count": null,
      "metadata": {
        "id": "0RIZq4-StXhg",
        "colab": {
          "base_uri": "https://localhost:8080/"
        },
        "outputId": "07c8be21-8ee0-4e14-deea-6c216921edba"
      },
      "outputs": [
        {
          "output_type": "stream",
          "name": "stdout",
          "text": [
            "{'C': 100, 'degree': 1, 'gamma': 0.1, 'kernel': 'poly'}\n",
            "0.7510384565694578\n"
          ]
        },
        {
          "output_type": "stream",
          "name": "stderr",
          "text": [
            "/usr/local/lib/python3.10/dist-packages/sklearn/model_selection/_validation.py:425: FitFailedWarning: \n",
            "240 fits failed out of a total of 1200.\n",
            "The score on these train-test partitions for these parameters will be set to nan.\n",
            "If these failures are not expected, you can try to debug them by setting error_score='raise'.\n",
            "\n",
            "Below are more details about the failures:\n",
            "--------------------------------------------------------------------------------\n",
            "240 fits failed with the following error:\n",
            "Traceback (most recent call last):\n",
            "  File \"/usr/local/lib/python3.10/dist-packages/sklearn/model_selection/_validation.py\", line 729, in _fit_and_score\n",
            "    estimator.fit(X_train, y_train, **fit_params)\n",
            "  File \"/usr/local/lib/python3.10/dist-packages/sklearn/base.py\", line 1145, in wrapper\n",
            "    estimator._validate_params()\n",
            "  File \"/usr/local/lib/python3.10/dist-packages/sklearn/base.py\", line 638, in _validate_params\n",
            "    validate_parameter_constraints(\n",
            "  File \"/usr/local/lib/python3.10/dist-packages/sklearn/utils/_param_validation.py\", line 96, in validate_parameter_constraints\n",
            "    raise InvalidParameterError(\n",
            "sklearn.utils._param_validation.InvalidParameterError: The 'kernel' parameter of SVR must be a str among {'poly', 'precomputed', 'linear', 'sigmoid', 'rbf'} or a callable. Got 'laplacian' instead.\n",
            "\n",
            "  warnings.warn(some_fits_failed_message, FitFailedWarning)\n",
            "/usr/local/lib/python3.10/dist-packages/sklearn/model_selection/_search.py:979: UserWarning: One or more of the test scores are non-finite: [ 4.87952326e-01  4.87952326e-01 -1.20421721e-01  1.29306409e-01\n",
            "             nan  4.87952326e-01 -5.72714792e-02 -6.49087089e-02\n",
            " -2.15659803e-03             nan  4.87952326e-01 -1.41460154e-01\n",
            " -1.41468846e-01 -1.32252108e-01             nan  4.87952326e-01\n",
            " -1.50201245e-01 -1.50201253e-01 -1.49231477e-01             nan\n",
            "  4.87952326e-01  6.81294775e-01 -1.20421721e-01  1.29306409e-01\n",
            "             nan  4.87952326e-01 -9.59985301e-02 -6.49087089e-02\n",
            " -2.15659803e-03             nan  4.87952326e-01 -1.50611175e-01\n",
            " -1.41468846e-01 -1.32252108e-01             nan  4.87952326e-01\n",
            " -1.51170555e-01 -1.50201253e-01 -1.49231477e-01             nan\n",
            "  4.87952326e-01  7.00240245e-01 -1.20421721e-01  1.29306409e-01\n",
            "             nan  4.87952326e-01 -1.25188077e-01 -6.49087089e-02\n",
            " -2.15659803e-03             nan  4.87952326e-01 -1.51149903e-01\n",
            " -1.41468846e-01 -1.32252108e-01             nan  4.87952326e-01\n",
            " -1.51176180e-01 -1.50201253e-01 -1.49231477e-01             nan\n",
            "  4.87952326e-01  6.51315479e-01 -1.20421721e-01  1.29306409e-01\n",
            "             nan  4.87952326e-01 -1.39719989e-01 -6.49087089e-02\n",
            " -2.15659803e-03             nan  4.87952326e-01 -1.51175054e-01\n",
            " -1.41468846e-01 -1.32252108e-01             nan  4.87952326e-01\n",
            " -1.51176207e-01 -1.50201253e-01 -1.49231477e-01             nan\n",
            "  4.87952326e-01  5.04782958e-01 -1.20421721e-01  1.29306409e-01\n",
            "             nan  4.87952326e-01 -1.46228906e-01 -6.49087089e-02\n",
            " -2.15659803e-03             nan  4.87952326e-01 -1.51176157e-01\n",
            " -1.41468846e-01 -1.32252108e-01             nan  4.87952326e-01\n",
            " -1.51176207e-01 -1.50201253e-01 -1.49231477e-01             nan\n",
            "  7.37077244e-01  7.37077244e-01  4.64470731e-02  6.81515336e-01\n",
            "             nan  7.37077244e-01  4.87952323e-01  4.49458226e-01\n",
            "  6.11691797e-01             nan  7.37077244e-01 -5.72714787e-02\n",
            " -5.73594102e-02  2.90842639e-02             nan  7.37077244e-01\n",
            " -1.41460154e-01 -1.41460240e-01 -1.31862575e-01             nan\n",
            "  7.37077244e-01  7.47411015e-01  4.64470731e-02  6.81515336e-01\n",
            "             nan  7.37077244e-01  3.12752309e-01  4.49458226e-01\n",
            "  6.11691797e-01             nan  7.37077244e-01 -1.45537939e-01\n",
            " -5.73594102e-02  2.90842639e-02             nan  7.37077244e-01\n",
            " -1.51119691e-01 -1.41460240e-01 -1.31862575e-01             nan\n",
            "  7.37077244e-01  6.46358221e-01  4.64470731e-02  6.81515336e-01\n",
            "             nan  7.37077244e-01  9.61557394e-02  4.49458226e-01\n",
            "  6.11691797e-01             nan  7.37077244e-01 -1.50913197e-01\n",
            " -5.73594102e-02  2.90842639e-02             nan  7.37077244e-01\n",
            " -1.51175944e-01 -1.41460240e-01 -1.31862575e-01             nan\n",
            "  7.37077244e-01  4.86184766e-01  4.64470731e-02  6.81515336e-01\n",
            "             nan  7.37077244e-01 -3.44948784e-02  4.49458226e-01\n",
            "  6.11691797e-01             nan  7.37077244e-01 -1.51164683e-01\n",
            " -5.73594102e-02  2.90842639e-02             nan  7.37077244e-01\n",
            " -1.51176206e-01 -1.41460240e-01 -1.31862575e-01             nan\n",
            "  7.37077244e-01  1.63550851e-01  4.64470731e-02  6.81515336e-01\n",
            "             nan  7.37077244e-01 -1.00378720e-01  4.49458226e-01\n",
            "  6.11691797e-01             nan  7.37077244e-01 -1.51175711e-01\n",
            " -5.73594102e-02  2.90842639e-02             nan  7.37077244e-01\n",
            " -1.51176207e-01 -1.41460240e-01 -1.31862575e-01             nan\n",
            "  7.51033491e-01  7.51033491e-01 -2.98578655e-01  6.67514186e-01\n",
            "             nan  7.51033491e-01  7.37076719e-01  7.38031092e-01\n",
            "  7.43126055e-01             nan  7.51033491e-01  4.87952326e-01\n",
            "  4.87688617e-01  6.41402675e-01             nan  7.51033491e-01\n",
            " -5.72714778e-02 -5.72723579e-02  3.26363718e-02             nan\n",
            "  7.51033491e-01  6.57881294e-01 -2.98578655e-01  6.67514186e-01\n",
            "             nan  7.51033491e-01  6.81297415e-01  7.38031092e-01\n",
            "  7.43126055e-01             nan  7.51033491e-01 -9.59985301e-02\n",
            "  4.87688617e-01  6.41402675e-01             nan  7.51033491e-01\n",
            " -1.50611175e-01 -5.72723579e-02  3.26363718e-02             nan\n",
            "  7.51033491e-01  4.88856043e-01 -2.98578655e-01  6.67514186e-01\n",
            "             nan  7.51033491e-01  5.75701200e-01  7.38031092e-01\n",
            "  7.43126055e-01             nan  7.51033491e-01 -1.48548956e-01\n",
            "  4.87688617e-01  6.41402675e-01             nan  7.51033491e-01\n",
            " -1.51173576e-01 -5.72723579e-02  3.26363718e-02             nan\n",
            "  7.51033491e-01  2.48880495e-01 -2.98578655e-01  6.67514186e-01\n",
            "             nan  7.51033491e-01  4.37384279e-01  7.38031092e-01\n",
            "  7.43126055e-01             nan  7.51033491e-01 -1.51060980e-01\n",
            "  4.87688617e-01  6.41402675e-01             nan  7.51033491e-01\n",
            " -1.51176195e-01 -5.72723579e-02  3.26363718e-02             nan\n",
            "  7.51033491e-01  1.63550851e-01 -2.98578655e-01  6.67514186e-01\n",
            "             nan  7.51033491e-01  2.58098638e-01  7.38031092e-01\n",
            "  7.43126055e-01             nan  7.51033491e-01 -1.51171245e-01\n",
            "  4.87688617e-01  6.41402675e-01             nan  7.51033491e-01\n",
            " -1.51176207e-01 -5.72723579e-02  3.26363718e-02             nan\n",
            "  7.00699963e-01  7.00699963e-01 -5.90005762e+01  6.12211338e-01\n",
            "             nan  7.00699963e-01  7.51038457e-01 -2.61852428e-01\n",
            "  6.98880963e-01             nan  7.00699963e-01  7.37073434e-01\n",
            "  7.37078292e-01  7.43264860e-01             nan  7.00699963e-01\n",
            "  4.87929937e-01  4.87927517e-01  6.45507858e-01             nan\n",
            "  7.00699963e-01  4.71153373e-01 -5.90005762e+01  6.12211338e-01\n",
            "             nan  7.00699963e-01  7.47423048e-01 -2.61852428e-01\n",
            "  6.98880963e-01             nan  7.00699963e-01  3.12752311e-01\n",
            "  7.37078292e-01  7.43264860e-01             nan  7.00699963e-01\n",
            " -1.45537939e-01  4.87927517e-01  6.45507858e-01             nan\n",
            "  7.00699963e-01  2.26741427e-01 -5.90005762e+01  6.12211338e-01\n",
            "             nan  7.00699963e-01  7.00235440e-01 -2.61852428e-01\n",
            "  6.98880963e-01             nan  7.00699963e-01 -1.25188077e-01\n",
            "  7.37078292e-01  7.43264860e-01             nan  7.00699963e-01\n",
            " -1.51149903e-01  4.87927517e-01  6.45507858e-01             nan\n",
            "  7.00699963e-01  2.48880495e-01 -5.90005762e+01  6.12211338e-01\n",
            "             nan  7.00699963e-01  6.31848525e-01 -2.61852428e-01\n",
            "  6.98880963e-01             nan  7.00699963e-01 -1.50024540e-01\n",
            "  7.37078292e-01  7.43264860e-01             nan  7.00699963e-01\n",
            " -1.51176091e-01  4.87927517e-01  6.45507858e-01             nan\n",
            "  7.00699963e-01  1.63550851e-01 -5.90005762e+01  6.12211338e-01\n",
            "             nan  7.00699963e-01  5.50595794e-01 -2.61852428e-01\n",
            "  6.98880963e-01             nan  7.00699963e-01 -1.51126594e-01\n",
            "  7.37078292e-01  7.43264860e-01             nan  7.00699963e-01\n",
            " -1.51176206e-01  4.87927517e-01  6.45507858e-01             nan]\n",
            "  warnings.warn(\n"
          ]
        }
      ],
      "source": [
        "grid = {\n",
        "    'C':[0.1,1,10,100],\n",
        "    'gamma':[1,0.1,0.01,0.001],\n",
        "    'kernel':['linear','poly','sigmoid','rbf','laplacian'],\n",
        "    'degree':[1,2,3,4,5]\n",
        "}\n",
        "SVR_model = SVR()\n",
        "cross_grid = GridSearchCV(SVR_model,grid,cv=3)\n",
        "cross_grid.fit(X_train,Y_train)\n",
        "print(cross_grid.best_params_)\n",
        "print(cross_grid.best_score_)"
      ]
    },
    {
      "cell_type": "code",
      "execution_count": null,
      "metadata": {
        "id": "yDgOaSLgtgK6",
        "colab": {
          "base_uri": "https://localhost:8080/"
        },
        "outputId": "03b2fea3-e35b-4113-c176-0a28c85750f1"
      },
      "outputs": [
        {
          "output_type": "stream",
          "name": "stdout",
          "text": [
            "The train score is: 0.6221077173726448\n",
            "The test score is: 0.643688300500222\n"
          ]
        }
      ],
      "source": [
        "X_train = scaling(X_train,StandardScaler)\n",
        "X_test = scaling(X_test, StandardScaler)\n",
        "SVR_model = SVR()\n",
        "cross_val = cross_val_score(SVR_model, X_train, Y_train, cv=5)\n",
        "print(\"The train score is:\", cross_val.mean())\n",
        "SVR_model.fit(X_train,Y_train)\n",
        "y_pred = SVR_model.predict(X_test)\n",
        "print(\"The test score is:\", SVR_model.score(X_test,Y_test))"
      ]
    },
    {
      "cell_type": "code",
      "execution_count": null,
      "metadata": {
        "id": "Kh3RzLBguBv0",
        "colab": {
          "base_uri": "https://localhost:8080/"
        },
        "outputId": "1bbf079c-123e-4884-b5d0-07bb301d5a96"
      },
      "outputs": [
        {
          "output_type": "stream",
          "name": "stdout",
          "text": [
            "{'C': 100, 'degree': 1, 'gamma': 0.01, 'kernel': 'sigmoid'}\n",
            "0.7373286662090917\n"
          ]
        },
        {
          "output_type": "stream",
          "name": "stderr",
          "text": [
            "/usr/local/lib/python3.10/dist-packages/sklearn/model_selection/_validation.py:425: FitFailedWarning: \n",
            "240 fits failed out of a total of 1200.\n",
            "The score on these train-test partitions for these parameters will be set to nan.\n",
            "If these failures are not expected, you can try to debug them by setting error_score='raise'.\n",
            "\n",
            "Below are more details about the failures:\n",
            "--------------------------------------------------------------------------------\n",
            "240 fits failed with the following error:\n",
            "Traceback (most recent call last):\n",
            "  File \"/usr/local/lib/python3.10/dist-packages/sklearn/model_selection/_validation.py\", line 729, in _fit_and_score\n",
            "    estimator.fit(X_train, y_train, **fit_params)\n",
            "  File \"/usr/local/lib/python3.10/dist-packages/sklearn/base.py\", line 1145, in wrapper\n",
            "    estimator._validate_params()\n",
            "  File \"/usr/local/lib/python3.10/dist-packages/sklearn/base.py\", line 638, in _validate_params\n",
            "    validate_parameter_constraints(\n",
            "  File \"/usr/local/lib/python3.10/dist-packages/sklearn/utils/_param_validation.py\", line 96, in validate_parameter_constraints\n",
            "    raise InvalidParameterError(\n",
            "sklearn.utils._param_validation.InvalidParameterError: The 'kernel' parameter of SVR must be a str among {'poly', 'precomputed', 'linear', 'sigmoid', 'rbf'} or a callable. Got 'laplacian' instead.\n",
            "\n",
            "  warnings.warn(some_fits_failed_message, FitFailedWarning)\n",
            "/usr/local/lib/python3.10/dist-packages/sklearn/model_selection/_search.py:979: UserWarning: One or more of the test scores are non-finite: [ 7.16932566e-01  7.16932566e-01  5.62003894e-01 -1.53497682e-01\n",
            "             nan  7.16932566e-01  4.56010544e-01  4.01321677e-01\n",
            "  3.35955233e-02             nan  7.16932566e-01 -7.81262411e-02\n",
            " -7.82954914e-02 -3.48485713e-02             nan  7.16932566e-01\n",
            " -1.43886851e-01 -1.43887011e-01 -1.37019120e-01             nan\n",
            "  7.16932566e-01 -3.88017281e-01  5.62003894e-01 -1.53497682e-01\n",
            "             nan  7.16932566e-01 -1.61871118e-01  4.01321677e-01\n",
            "  3.35955233e-02             nan  7.16932566e-01 -1.51647328e-01\n",
            " -7.82954914e-02 -3.48485713e-02             nan  7.16932566e-01\n",
            " -1.51180910e-01 -1.43887011e-01 -1.37019120e-01             nan\n",
            "  7.16932566e-01  3.04015034e-01  5.62003894e-01 -1.53497682e-01\n",
            "             nan  7.16932566e-01  2.28707463e-01  4.01321677e-01\n",
            "  3.35955233e-02             nan  7.16932566e-01 -1.50781626e-01\n",
            " -7.82954914e-02 -3.48485713e-02             nan  7.16932566e-01\n",
            " -1.51175812e-01 -1.43887011e-01 -1.37019120e-01             nan\n",
            "  7.16932566e-01 -2.26336745e+00  5.62003894e-01 -1.53497682e-01\n",
            "             nan  7.16932566e-01 -1.79734631e-01  4.01321677e-01\n",
            "  3.35955233e-02             nan  7.16932566e-01 -1.51198960e-01\n",
            " -7.82954914e-02 -3.48485713e-02             nan  7.16932566e-01\n",
            " -1.51176209e-01 -1.43887011e-01 -1.37019120e-01             nan\n",
            "  7.16932566e-01 -3.19877114e+00  5.62003894e-01 -1.53497682e-01\n",
            "             nan  7.16932566e-01  6.89520746e-02  4.01321677e-01\n",
            "  3.35955233e-02             nan  7.16932566e-01 -1.51183405e-01\n",
            " -7.82954914e-02 -3.48485713e-02             nan  7.16932566e-01\n",
            " -1.51176207e-01 -1.43887011e-01 -1.37019120e-01             nan\n",
            "  7.34526433e-01  7.34526433e-01 -1.33092993e+00 -1.17064158e-01\n",
            "             nan  7.34526433e-01  7.16909928e-01  7.29663221e-01\n",
            "  6.23377751e-01             nan  7.34526433e-01  4.56011532e-01\n",
            "  4.55625337e-01  5.67292140e-01             nan  7.34526433e-01\n",
            " -7.81262409e-02 -7.81279412e-02 -2.52231030e-03             nan\n",
            "  7.34526433e-01 -1.94096182e+00 -1.33092993e+00 -1.17064158e-01\n",
            "             nan  7.34526433e-01 -1.40074780e-01  7.29663221e-01\n",
            "  6.23377751e-01             nan  7.34526433e-01 -1.55955019e-01\n",
            "  4.55625337e-01  5.67292140e-01             nan  7.34526433e-01\n",
            " -1.51223251e-01 -7.81279412e-02 -2.52231030e-03             nan\n",
            "  7.34526433e-01  3.04015034e-01 -1.33092993e+00 -1.17064158e-01\n",
            "             nan  7.34526433e-01  6.01249836e-01  7.29663221e-01\n",
            "  6.23377751e-01             nan  7.34526433e-01 -1.47249609e-01\n",
            "  4.55625337e-01  5.67292140e-01             nan  7.34526433e-01\n",
            " -1.51172259e-01 -7.81279412e-02 -2.52231030e-03             nan\n",
            "  7.34526433e-01 -2.26336745e+00 -1.33092993e+00 -1.17064158e-01\n",
            "             nan  7.34526433e-01 -1.06989502e-01  7.29663221e-01\n",
            "  6.23377751e-01             nan  7.34526433e-01 -1.51404144e-01\n",
            "  4.55625337e-01  5.67292140e-01             nan  7.34526433e-01\n",
            " -1.51176229e-01 -7.81279412e-02 -2.52231030e-03             nan\n",
            "  7.34526433e-01 -3.19877114e+00 -1.33092993e+00 -1.17064158e-01\n",
            "             nan  7.34526433e-01  3.91958389e-01  7.29663221e-01\n",
            "  6.23377751e-01             nan  7.34526433e-01 -1.51248358e-01\n",
            "  4.55625337e-01  5.67292140e-01             nan  7.34526433e-01\n",
            " -1.51176207e-01 -7.81279412e-02 -2.52231030e-03             nan\n",
            "  6.88339277e-01  6.88339277e-01 -2.46679664e+02  5.93395174e-02\n",
            "             nan  6.88339277e-01  7.34524967e-01 -5.74081895e+00\n",
            "  6.65294308e-01             nan  6.88339277e-01  7.16917281e-01\n",
            "  7.18210154e-01  7.16639129e-01             nan  6.88339277e-01\n",
            "  4.56011533e-01  4.56007019e-01  6.08467186e-01             nan\n",
            "  6.88339277e-01 -2.28738647e+00 -2.46679664e+02  5.93395174e-02\n",
            "             nan  6.88339277e-01 -3.88019519e-01 -5.74081895e+00\n",
            "  6.65294308e-01             nan  6.88339277e-01 -1.61871120e-01\n",
            "  7.18210154e-01  7.16639129e-01             nan  6.88339277e-01\n",
            " -1.51647328e-01  4.56007019e-01  6.08467186e-01             nan\n",
            "  6.88339277e-01  3.04015034e-01 -2.46679664e+02  5.93395174e-02\n",
            "             nan  6.88339277e-01  5.78722811e-01 -5.74081895e+00\n",
            "  6.65294308e-01             nan  6.88339277e-01 -9.89019266e-02\n",
            "  7.18210154e-01  7.16639129e-01             nan  6.88339277e-01\n",
            " -1.51136729e-01  4.56007019e-01  6.08467186e-01             nan\n",
            "  6.88339277e-01 -2.26336745e+00 -2.46679664e+02  5.93395174e-02\n",
            "             nan  6.88339277e-01 -1.00079630e+00 -5.74081895e+00\n",
            "  6.65294308e-01             nan  6.88339277e-01 -1.53495742e-01\n",
            "  7.18210154e-01  7.16639129e-01             nan  6.88339277e-01\n",
            " -1.51176434e-01  4.56007019e-01  6.08467186e-01             nan\n",
            "  6.88339277e-01 -3.19877114e+00 -2.46679664e+02  5.93395174e-02\n",
            "             nan  6.88339277e-01 -5.95596886e-01 -5.74081895e+00\n",
            "  6.65294308e-01             nan  6.88339277e-01 -1.51914298e-01\n",
            "  7.18210154e-01  7.16639129e-01             nan  6.88339277e-01\n",
            " -1.51176214e-01  4.56007019e-01  6.08467186e-01             nan\n",
            "  6.63982711e-01  6.63982711e-01 -2.61376625e+04  5.93398891e-02\n",
            "             nan  6.63982711e-01  6.88414562e-01 -6.14840416e+02\n",
            "  6.32374072e-01             nan  6.63982711e-01  7.34525948e-01\n",
            "  7.37328666e-01  6.68409367e-01             nan  6.63982711e-01\n",
            "  7.16933066e-01  7.16942482e-01  7.05085417e-01             nan\n",
            "  6.63982711e-01 -2.28738647e+00 -2.61376625e+04  5.93398891e-02\n",
            "             nan  6.63982711e-01 -1.94098929e+00 -6.14840416e+02\n",
            "  6.32374072e-01             nan  6.63982711e-01 -1.40080385e-01\n",
            "  7.37328666e-01  6.68409367e-01             nan  6.63982711e-01\n",
            " -1.55955019e-01  7.16942482e-01  7.05085417e-01             nan\n",
            "  6.63982711e-01  3.04015034e-01 -2.61376625e+04  5.93398891e-02\n",
            "             nan  6.63982711e-01  3.04030499e-01 -6.14840416e+02\n",
            "  6.32374072e-01             nan  6.63982711e-01  2.28693094e-01\n",
            "  7.37328666e-01  6.68409367e-01             nan  6.63982711e-01\n",
            " -1.50781626e-01  7.16942482e-01  7.05085417e-01             nan\n",
            "  6.63982711e-01 -2.26336745e+00 -2.61376625e+04  5.93398891e-02\n",
            "             nan  6.63982711e-01 -2.26333184e+00 -6.14840416e+02\n",
            "  6.32374072e-01             nan  6.63982711e-01 -1.67659025e-01\n",
            "  7.37328666e-01  6.68409367e-01             nan  6.63982711e-01\n",
            " -1.51178482e-01  7.16942482e-01  7.05085417e-01             nan\n",
            "  6.63982711e-01 -3.19877114e+00 -2.61376625e+04  5.93398891e-02\n",
            "             nan  6.63982711e-01 -3.19892658e+00 -6.14840416e+02\n",
            "  6.32374072e-01             nan  6.63982711e-01 -1.48014582e-01\n",
            "  7.37328666e-01  6.68409367e-01             nan  6.63982711e-01\n",
            " -1.51176279e-01  7.16942482e-01  7.05085417e-01             nan]\n",
            "  warnings.warn(\n"
          ]
        }
      ],
      "source": [
        "grid = {\n",
        "    'C':[0.1,1,10,100],\n",
        "    'gamma':[1,0.1,0.01,0.001],\n",
        "    'kernel':['linear','poly','sigmoid','rbf','laplacian'],\n",
        "    'degree':[1,2,3,4,5]\n",
        "}\n",
        "SVR_model = SVR()\n",
        "cross_grid = GridSearchCV(SVR_model,grid,cv=3)\n",
        "cross_grid.fit(X_train,Y_train)\n",
        "print(cross_grid.best_params_)\n",
        "print(cross_grid.best_score_)"
      ]
    },
    {
      "cell_type": "code",
      "source": [],
      "metadata": {
        "id": "dLlymNS8mI9w"
      },
      "execution_count": null,
      "outputs": []
    }
  ],
  "metadata": {
    "colab": {
      "provenance": []
    },
    "kernelspec": {
      "display_name": "Python 3",
      "name": "python3"
    },
    "language_info": {
      "name": "python"
    }
  },
  "nbformat": 4,
  "nbformat_minor": 0
}